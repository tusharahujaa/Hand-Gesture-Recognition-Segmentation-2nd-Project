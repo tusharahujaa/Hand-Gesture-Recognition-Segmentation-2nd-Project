{
  "cells": [
    {
      "cell_type": "code",
      "execution_count": null,
      "metadata": {
        "id": "lDhfous4FeBo"
      },
      "outputs": [],
      "source": [
        "from google.colab import drive\n",
        "drive.mount('/content/gdrive')\n",
        "path='/content/gdrive/\"My Drive\"/\"Colab Notebooks\"/\"SEGMENTED_DATASET\"'\n",
        "%ls{path}"
      ]
    },
    {
      "cell_type": "code",
      "source": [
        "import tensorflow\n",
        "from tensorflow.keras.models import Sequential\n",
        "from tensorflow.keras.layers import Dense, Conv2D, MaxPool2D , Flatten\n",
        "import matplotlib.pyplot as plt\n",
        "import pandas as pd\n",
        "import numpy as np\n",
        "from tensorflow.keras.utils import to_categorical\n",
        "from sklearn.metrics import confusion_matrix,ConfusionMatrixDisplay\n",
        "from tensorflow.keras.applications import ResNet50"
      ],
      "metadata": {
        "id": "PoIGUOox_ea4"
      },
      "execution_count": null,
      "outputs": []
    },
    {
      "cell_type": "code",
      "execution_count": null,
      "metadata": {
        "id": "3XwpHQjKlZ5r"
      },
      "outputs": [],
      "source": [
        "import os\n",
        "import cv2\n",
        "x_train=[]\n",
        "y_train=[]\n",
        "x_test=[]\n",
        "y_test=[]\n",
        "imagepaths1 = []\n",
        "imagepaths2 = []\n",
        "for i in range(4):\n",
        "  image1path=f\"/content/gdrive/MyDrive/Colab Notebooks/SEGMENTED_DATASET/train/{i}/\"\n",
        "  image2path=f\"/content/gdrive/MyDrive/Colab Notebooks/SEGMENTED_DATASET/test/{i}/\"\n",
        "  file1=os.listdir(image1path)\n",
        "  for f in file1:\n",
        "    final1=image1path+f\n",
        "    img = cv2.imread(final1) # Reads image and returns np.array\n",
        "    #img = cv2.cvtColor(img, cv2.COLOR_BGR2GRAY) # Converts into the corret colorspace (GRAY)\n",
        "    img = cv2.resize(img, (200, 200))\n",
        "    x_train.append(img)\n",
        "    y_train.append(i)\n",
        "\n",
        "  file2=os.listdir(image2path)\n",
        "  for f in file2:\n",
        "    final2=image2path+f\n",
        "    img = cv2.imread(final2) # Reads image and returns np.array\n",
        "    #img = cv2.cvtColor(img,cv2.COLOR_BGR2GRAY) # Converts into the corret colorspace (GRAY)\n",
        "    img = cv2.resize(img, (200, 200))\n",
        "    x_test.append(img)\n",
        "    y_test.append(i)"
      ]
    },
    {
      "cell_type": "markdown",
      "source": [
        "**RESNET 50 MODEL**"
      ],
      "metadata": {
        "id": "TCZtTzbpXj6t"
      }
    },
    {
      "cell_type": "code",
      "execution_count": null,
      "metadata": {
        "colab": {
          "base_uri": "https://localhost:8080/"
        },
        "id": "XxBy-cbdHdRS",
        "outputId": "0d9e1e8e-228d-4c48-c44d-5d4e8d285390"
      },
      "outputs": [
        {
          "output_type": "stream",
          "name": "stdout",
          "text": [
            "<keras.engine.input_layer.InputLayer object at 0x7f9b7405b1d0> False\n",
            "<keras.layers.convolutional.ZeroPadding2D object at 0x7f9af13e49d0> False\n",
            "<keras.layers.convolutional.Conv2D object at 0x7f9af13e47d0> False\n",
            "<keras.layers.normalization.batch_normalization.BatchNormalization object at 0x7f9af1334890> False\n",
            "<keras.layers.core.activation.Activation object at 0x7f9af033aed0> False\n",
            "<keras.layers.convolutional.ZeroPadding2D object at 0x7f9af12ed390> False\n",
            "<keras.layers.pooling.MaxPooling2D object at 0x7f9b74156cd0> False\n",
            "<keras.layers.convolutional.Conv2D object at 0x7f9af13d6410> False\n",
            "<keras.layers.normalization.batch_normalization.BatchNormalization object at 0x7f9af13f3d90> False\n",
            "<keras.layers.core.activation.Activation object at 0x7f9af14193d0> False\n",
            "<keras.layers.convolutional.Conv2D object at 0x7f9af140b790> False\n",
            "<keras.layers.normalization.batch_normalization.BatchNormalization object at 0x7f9af1419750> False\n",
            "<keras.layers.core.activation.Activation object at 0x7f9af13fe390> False\n",
            "<keras.layers.convolutional.Conv2D object at 0x7f9af13da450> False\n",
            "<keras.layers.convolutional.Conv2D object at 0x7f9af142ad10> False\n",
            "<keras.layers.normalization.batch_normalization.BatchNormalization object at 0x7f9af138b390> False\n",
            "<keras.layers.normalization.batch_normalization.BatchNormalization object at 0x7f9af3a7f210> False\n",
            "<keras.layers.merge.Add object at 0x7f9af16dbed0> False\n",
            "<keras.layers.core.activation.Activation object at 0x7f9af13fe7d0> False\n",
            "<keras.layers.convolutional.Conv2D object at 0x7f9b74079050> False\n",
            "<keras.layers.normalization.batch_normalization.BatchNormalization object at 0x7f9af13fea10> False\n",
            "<keras.layers.core.activation.Activation object at 0x7f9c15695510> False\n",
            "<keras.layers.convolutional.Conv2D object at 0x7f9af38aab50> False\n",
            "<keras.layers.normalization.batch_normalization.BatchNormalization object at 0x7f98f8e359d0> False\n",
            "<keras.layers.core.activation.Activation object at 0x7f9c15695450> False\n",
            "<keras.layers.convolutional.Conv2D object at 0x7f98f8d88310> False\n",
            "<keras.layers.normalization.batch_normalization.BatchNormalization object at 0x7f98f8dbfb10> False\n",
            "<keras.layers.merge.Add object at 0x7f98f8e22890> False\n",
            "<keras.layers.core.activation.Activation object at 0x7f9c15695310> False\n",
            "<keras.layers.convolutional.Conv2D object at 0x7f9af13ea950> False\n",
            "<keras.layers.normalization.batch_normalization.BatchNormalization object at 0x7f9af13dae90> False\n",
            "<keras.layers.core.activation.Activation object at 0x7f9af16bf290> False\n",
            "<keras.layers.convolutional.Conv2D object at 0x7f9af137f110> False\n",
            "<keras.layers.normalization.batch_normalization.BatchNormalization object at 0x7f9af12f5e50> False\n",
            "<keras.layers.core.activation.Activation object at 0x7f9af1212f90> False\n",
            "<keras.layers.convolutional.Conv2D object at 0x7f9af12f4350> False\n",
            "<keras.layers.normalization.batch_normalization.BatchNormalization object at 0x7f9af38aac50> False\n",
            "<keras.layers.merge.Add object at 0x7f9af12bca50> False\n",
            "<keras.layers.core.activation.Activation object at 0x7f9af120abd0> False\n",
            "<keras.layers.convolutional.Conv2D object at 0x7f98f9054b90> False\n",
            "<keras.layers.normalization.batch_normalization.BatchNormalization object at 0x7f9af0f12950> False\n",
            "<keras.layers.core.activation.Activation object at 0x7f9af0f12e90> False\n",
            "<keras.layers.convolutional.Conv2D object at 0x7f9af0f00f50> False\n",
            "<keras.layers.normalization.batch_normalization.BatchNormalization object at 0x7f9af0f34d10> False\n",
            "<keras.layers.core.activation.Activation object at 0x7f9af0f37390> False\n",
            "<keras.layers.convolutional.Conv2D object at 0x7f98f8fd8410> False\n",
            "<keras.layers.convolutional.Conv2D object at 0x7f9af0f37450> False\n",
            "<keras.layers.normalization.batch_normalization.BatchNormalization object at 0x7f98f8fd8f90> False\n",
            "<keras.layers.normalization.batch_normalization.BatchNormalization object at 0x7f9af0efb210> False\n",
            "<keras.layers.merge.Add object at 0x7f9af10e4490> False\n",
            "<keras.layers.core.activation.Activation object at 0x7f9af10cf150> False\n",
            "<keras.layers.convolutional.Conv2D object at 0x7f9af10ebbd0> False\n",
            "<keras.layers.normalization.batch_normalization.BatchNormalization object at 0x7f9af10d4f10> False\n",
            "<keras.layers.core.activation.Activation object at 0x7f9af10d72d0> False\n",
            "<keras.layers.convolutional.Conv2D object at 0x7f9af10f0ed0> False\n",
            "<keras.layers.normalization.batch_normalization.BatchNormalization object at 0x7f9af10e7d50> False\n",
            "<keras.layers.core.activation.Activation object at 0x7f9af0fe9690> False\n",
            "<keras.layers.convolutional.Conv2D object at 0x7f9af0fe9510> False\n",
            "<keras.layers.normalization.batch_normalization.BatchNormalization object at 0x7f9af0ff1790> False\n",
            "<keras.layers.merge.Add object at 0x7f9af0fc66d0> False\n",
            "<keras.layers.core.activation.Activation object at 0x7f9af0fc3a50> False\n",
            "<keras.layers.convolutional.Conv2D object at 0x7f9af0fc9710> False\n",
            "<keras.layers.normalization.batch_normalization.BatchNormalization object at 0x7f9af0fd0a50> False\n",
            "<keras.layers.core.activation.Activation object at 0x7f9af0fd0ed0> False\n",
            "<keras.layers.convolutional.Conv2D object at 0x7f9af0fe1090> False\n",
            "<keras.layers.normalization.batch_normalization.BatchNormalization object at 0x7f9af136d2d0> False\n",
            "<keras.layers.core.activation.Activation object at 0x7f9af136d5d0> False\n",
            "<keras.layers.convolutional.Conv2D object at 0x7f9af0fc3cd0> False\n",
            "<keras.layers.normalization.batch_normalization.BatchNormalization object at 0x7f9af0fbfd90> False\n",
            "<keras.layers.merge.Add object at 0x7f9af0efb7d0> False\n",
            "<keras.layers.core.activation.Activation object at 0x7f9af0ff3a50> False\n",
            "<keras.layers.convolutional.Conv2D object at 0x7f9af10cfa90> False\n",
            "<keras.layers.normalization.batch_normalization.BatchNormalization object at 0x7f9af0f36710> False\n",
            "<keras.layers.core.activation.Activation object at 0x7f98f9054dd0> False\n",
            "<keras.layers.convolutional.Conv2D object at 0x7f9af0f13c50> False\n",
            "<keras.layers.normalization.batch_normalization.BatchNormalization object at 0x7f9af12c36d0> False\n",
            "<keras.layers.core.activation.Activation object at 0x7f9af13eac90> False\n",
            "<keras.layers.convolutional.Conv2D object at 0x7f9af1419150> False\n",
            "<keras.layers.normalization.batch_normalization.BatchNormalization object at 0x7f9af1370fd0> False\n",
            "<keras.layers.merge.Add object at 0x7f9af136c450> False\n",
            "<keras.layers.core.activation.Activation object at 0x7f9af0fc47d0> False\n",
            "<keras.layers.convolutional.Conv2D object at 0x7f9af136b710> False\n",
            "<keras.layers.normalization.batch_normalization.BatchNormalization object at 0x7f9af13495d0> False\n",
            "<keras.layers.core.activation.Activation object at 0x7f9af0fa2c10> False\n",
            "<keras.layers.convolutional.Conv2D object at 0x7f9af0fa2250> False\n",
            "<keras.layers.normalization.batch_normalization.BatchNormalization object at 0x7f9af1349090> False\n",
            "<keras.layers.core.activation.Activation object at 0x7f9af0fa33d0> False\n",
            "<keras.layers.convolutional.Conv2D object at 0x7f9af0fc4a50> False\n",
            "<keras.layers.convolutional.Conv2D object at 0x7f9af0fa3490> False\n",
            "<keras.layers.normalization.batch_normalization.BatchNormalization object at 0x7f9af136cf10> False\n",
            "<keras.layers.normalization.batch_normalization.BatchNormalization object at 0x7f9af0fb1910> False\n",
            "<keras.layers.merge.Add object at 0x7f98f9037190> False\n",
            "<keras.layers.core.activation.Activation object at 0x7f98f9037e10> False\n",
            "<keras.layers.convolutional.Conv2D object at 0x7f98f9021590> False\n",
            "<keras.layers.normalization.batch_normalization.BatchNormalization object at 0x7f98f9021090> False\n",
            "<keras.layers.core.activation.Activation object at 0x7f98f9030710> False\n",
            "<keras.layers.convolutional.Conv2D object at 0x7f98f8ffead0> False\n",
            "<keras.layers.normalization.batch_normalization.BatchNormalization object at 0x7f98f9030150> False\n",
            "<keras.layers.core.activation.Activation object at 0x7f9af1154710> False\n",
            "<keras.layers.convolutional.Conv2D object at 0x7f98f90322d0> False\n",
            "<keras.layers.normalization.batch_normalization.BatchNormalization object at 0x7f98f9000350> False\n",
            "<keras.layers.merge.Add object at 0x7f9af114d110> False\n",
            "<keras.layers.core.activation.Activation object at 0x7f9af115c050> False\n",
            "<keras.layers.convolutional.Conv2D object at 0x7f9af114d090> False\n",
            "<keras.layers.normalization.batch_normalization.BatchNormalization object at 0x7f9af114d350> False\n",
            "<keras.layers.core.activation.Activation object at 0x7f9af0613950> False\n",
            "<keras.layers.convolutional.Conv2D object at 0x7f9af1144290> False\n",
            "<keras.layers.normalization.batch_normalization.BatchNormalization object at 0x7f9af0613a10> False\n",
            "<keras.layers.core.activation.Activation object at 0x7f98f9000e90> False\n",
            "<keras.layers.convolutional.Conv2D object at 0x7f98f9032950> False\n",
            "<keras.layers.normalization.batch_normalization.BatchNormalization object at 0x7f98f9000150> False\n",
            "<keras.layers.merge.Add object at 0x7f98f8ffeed0> False\n",
            "<keras.layers.core.activation.Activation object at 0x7f9af0f97510> False\n",
            "<keras.layers.convolutional.Conv2D object at 0x7f9af1166650> False\n",
            "<keras.layers.normalization.batch_normalization.BatchNormalization object at 0x7f9af0f979d0> False\n",
            "<keras.layers.core.activation.Activation object at 0x7f9af0fc4490> False\n",
            "<keras.layers.convolutional.Conv2D object at 0x7f9af115ca50> False\n",
            "<keras.layers.normalization.batch_normalization.BatchNormalization object at 0x7f9af136ad90> False\n",
            "<keras.layers.core.activation.Activation object at 0x7f9af1435cd0> False\n",
            "<keras.layers.convolutional.Conv2D object at 0x7f9af1234b50> False\n",
            "<keras.layers.normalization.batch_normalization.BatchNormalization object at 0x7f9af10d7a90> False\n",
            "<keras.layers.merge.Add object at 0x7f9af0f84790> False\n",
            "<keras.layers.core.activation.Activation object at 0x7f9af0f84990> False\n",
            "<keras.layers.convolutional.Conv2D object at 0x7f9af0624ad0> False\n",
            "<keras.layers.normalization.batch_normalization.BatchNormalization object at 0x7f9af0624a90> False\n",
            "<keras.layers.core.activation.Activation object at 0x7f9af0fb8e50> False\n",
            "<keras.layers.convolutional.Conv2D object at 0x7f9af0630190> False\n",
            "<keras.layers.normalization.batch_normalization.BatchNormalization object at 0x7f9af061fad0> False\n",
            "<keras.layers.core.activation.Activation object at 0x7f9af05a6910> False\n",
            "<keras.layers.convolutional.Conv2D object at 0x7f9af062f590> False\n",
            "<keras.layers.normalization.batch_normalization.BatchNormalization object at 0x7f9af05a6cd0> False\n",
            "<keras.layers.merge.Add object at 0x7f9af05aa150> False\n",
            "<keras.layers.core.activation.Activation object at 0x7f9af05aa210> False\n",
            "<keras.layers.convolutional.Conv2D object at 0x7f9af0580dd0> False\n",
            "<keras.layers.normalization.batch_normalization.BatchNormalization object at 0x7f9af05b29d0> False\n",
            "<keras.layers.core.activation.Activation object at 0x7f98f90e22d0> False\n",
            "<keras.layers.convolutional.Conv2D object at 0x7f9af0580a10> False\n",
            "<keras.layers.normalization.batch_normalization.BatchNormalization object at 0x7f98f90e2f10> False\n",
            "<keras.layers.core.activation.Activation object at 0x7f98f90d4710> False\n",
            "<keras.layers.convolutional.Conv2D object at 0x7f98f90e0e50> False\n",
            "<keras.layers.normalization.batch_normalization.BatchNormalization object at 0x7f98f90d5450> False\n",
            "<keras.layers.merge.Add object at 0x7f98f90cb050> False\n",
            "<keras.layers.core.activation.Activation object at 0x7f98f90cb8d0> False\n",
            "<keras.layers.convolutional.Conv2D object at 0x7f98f908c390> False\n",
            "<keras.layers.normalization.batch_normalization.BatchNormalization object at 0x7f98f9080850> False\n",
            "<keras.layers.core.activation.Activation object at 0x7f98f90bdbd0> False\n",
            "<keras.layers.convolutional.Conv2D object at 0x7f98f908ca10> False\n",
            "<keras.layers.normalization.batch_normalization.BatchNormalization object at 0x7f98f90dbb90> False\n",
            "<keras.layers.core.activation.Activation object at 0x7f98f90dc290> False\n",
            "<keras.layers.convolutional.Conv2D object at 0x7f98f90dc4d0> False\n",
            "<keras.layers.convolutional.Conv2D object at 0x7f98f90db150> False\n",
            "<keras.layers.normalization.batch_normalization.BatchNormalization object at 0x7f98f90a69d0> False\n",
            "<keras.layers.normalization.batch_normalization.BatchNormalization object at 0x7f9af062fe10> False\n",
            "<keras.layers.merge.Add object at 0x7f9af05a6ad0> False\n",
            "<keras.layers.core.activation.Activation object at 0x7f98f90dbb10> False\n",
            "<keras.layers.convolutional.Conv2D object at 0x7f9af0624990> False\n",
            "<keras.layers.normalization.batch_normalization.BatchNormalization object at 0x7f98f90cb650> False\n",
            "<keras.layers.core.activation.Activation object at 0x7f9af0600b90> False\n",
            "<keras.layers.convolutional.Conv2D object at 0x7f9af0fbffd0> False\n",
            "<keras.layers.normalization.batch_normalization.BatchNormalization object at 0x7f98f90e2e90> False\n",
            "<keras.layers.core.activation.Activation object at 0x7f9af1178590> False\n",
            "<keras.layers.convolutional.Conv2D object at 0x7f98f902d410> False\n",
            "<keras.layers.normalization.batch_normalization.BatchNormalization object at 0x7f9af0fa2a50> False\n",
            "<keras.layers.merge.Add object at 0x7f98f90965d0> False\n",
            "<keras.layers.core.activation.Activation object at 0x7f98f9093a10> False\n",
            "<keras.layers.convolutional.Conv2D object at 0x7f98f9082b50> False\n",
            "<keras.layers.normalization.batch_normalization.BatchNormalization object at 0x7f9af062f3d0> False\n",
            "<keras.layers.core.activation.Activation object at 0x7f9af128bd10> False\n",
            "<keras.layers.convolutional.Conv2D object at 0x7f9af129c250> False\n",
            "<keras.layers.normalization.batch_normalization.BatchNormalization object at 0x7f9af1295410> False\n",
            "<keras.layers.core.activation.Activation object at 0x7f98f9093390> False\n",
            "<keras.layers.convolutional.Conv2D object at 0x7f9af12abd90> False\n",
            "<keras.layers.normalization.batch_normalization.BatchNormalization object at 0x7f98f9093490> False\n",
            "<keras.layers.merge.Add object at 0x7f9af12b4110> False\n",
            "<keras.layers.core.activation.Activation object at 0x7f9af12971d0> False\n"
          ]
        }
      ],
      "source": [
        "resnet_conv = ResNet50(include_top=False,weights=\"imagenet\",input_shape=(200,200,3))\n",
        "for layer in resnet_conv.layers[:]:\n",
        "  layer.trainable=False\n",
        "for layer in resnet_conv.layers:\n",
        "  print(layer,layer.trainable)\n"
      ]
    },
    {
      "cell_type": "code",
      "source": [
        "tensorflow.test.gpu_device_name()"
      ],
      "metadata": {
        "id": "RfoV0zFRmIFV"
      },
      "execution_count": null,
      "outputs": []
    },
    {
      "cell_type": "code",
      "execution_count": null,
      "metadata": {
        "id": "yh2yzUHNcl4-",
        "colab": {
          "base_uri": "https://localhost:8080/"
        },
        "outputId": "940dc3ea-c330-4182-9ecb-8a81297259af"
      },
      "outputs": [
        {
          "output_type": "stream",
          "name": "stdout",
          "text": [
            "Model: \"sequential_2\"\n",
            "_________________________________________________________________\n",
            " Layer (type)                Output Shape              Param #   \n",
            "=================================================================\n",
            " resnet50 (Functional)       (None, 7, 7, 2048)        23587712  \n",
            "                                                                 \n",
            " flatten_2 (Flatten)         (None, 100352)            0         \n",
            "                                                                 \n",
            " dense_2 (Dense)             (None, 4)                 401412    \n",
            "                                                                 \n",
            "=================================================================\n",
            "Total params: 23,989,124\n",
            "Trainable params: 401,412\n",
            "Non-trainable params: 23,587,712\n",
            "_________________________________________________________________\n",
            "Epoch 1/15\n",
            "73/73 - 61s - loss: 2.8292 - accuracy: 0.8882 - val_loss: 0.5977 - val_accuracy: 0.9622 - 61s/epoch - 831ms/step\n",
            "Epoch 2/15\n",
            "73/73 - 53s - loss: 0.1110 - accuracy: 0.9884 - val_loss: 0.3443 - val_accuracy: 0.9714 - 53s/epoch - 723ms/step\n",
            "Epoch 3/15\n",
            "73/73 - 54s - loss: 0.0223 - accuracy: 0.9967 - val_loss: 0.2515 - val_accuracy: 0.9793 - 54s/epoch - 738ms/step\n",
            "Epoch 4/15\n",
            "73/73 - 55s - loss: 0.0231 - accuracy: 0.9960 - val_loss: 0.1822 - val_accuracy: 0.9852 - 55s/epoch - 753ms/step\n",
            "Epoch 5/15\n",
            "73/73 - 55s - loss: 0.0052 - accuracy: 0.9992 - val_loss: 0.2701 - val_accuracy: 0.9766 - 55s/epoch - 760ms/step\n",
            "Epoch 6/15\n",
            "73/73 - 55s - loss: 0.0013 - accuracy: 0.9997 - val_loss: 0.2320 - val_accuracy: 0.9798 - 55s/epoch - 760ms/step\n",
            "Epoch 7/15\n",
            "73/73 - 55s - loss: 4.4373e-05 - accuracy: 1.0000 - val_loss: 0.2057 - val_accuracy: 0.9817 - 55s/epoch - 759ms/step\n",
            "Epoch 8/15\n",
            "73/73 - 55s - loss: 1.1309e-05 - accuracy: 1.0000 - val_loss: 0.2117 - val_accuracy: 0.9814 - 55s/epoch - 760ms/step\n",
            "Epoch 9/15\n",
            "73/73 - 55s - loss: 7.0765e-06 - accuracy: 1.0000 - val_loss: 0.2137 - val_accuracy: 0.9809 - 55s/epoch - 760ms/step\n",
            "Epoch 10/15\n",
            "73/73 - 55s - loss: 6.0127e-06 - accuracy: 1.0000 - val_loss: 0.2140 - val_accuracy: 0.9809 - 55s/epoch - 760ms/step\n",
            "Epoch 11/15\n",
            "73/73 - 55s - loss: 5.3706e-06 - accuracy: 1.0000 - val_loss: 0.2142 - val_accuracy: 0.9809 - 55s/epoch - 760ms/step\n",
            "Epoch 12/15\n",
            "73/73 - 56s - loss: 4.8721e-06 - accuracy: 1.0000 - val_loss: 0.2144 - val_accuracy: 0.9809 - 56s/epoch - 761ms/step\n",
            "Epoch 13/15\n",
            "73/73 - 55s - loss: 4.4404e-06 - accuracy: 1.0000 - val_loss: 0.2144 - val_accuracy: 0.9809 - 55s/epoch - 759ms/step\n",
            "Epoch 14/15\n",
            "73/73 - 55s - loss: 4.0647e-06 - accuracy: 1.0000 - val_loss: 0.2144 - val_accuracy: 0.9808 - 55s/epoch - 759ms/step\n",
            "Epoch 15/15\n",
            "73/73 - 55s - loss: 3.7863e-06 - accuracy: 1.0000 - val_loss: 0.2144 - val_accuracy: 0.9808 - 55s/epoch - 759ms/step\n"
          ]
        }
      ],
      "source": [
        "model=Sequential()\n",
        "model.add(resnet_conv)\n",
        "model.add(Flatten())\n",
        "model.add(Dense(4,activation='softmax'))\n",
        "model.summary()\n",
        "model.compile(optimizer='adam', loss='categorical_crossentropy', metrics=['accuracy'])\n",
        "x_train = np.array(x_train, dtype=\"uint8\")\n",
        "y_train = np.array(y_train)\n",
        "x_test = np.array(x_test, dtype=\"uint8\")\n",
        "y_test = np.array(y_test)\n",
        "y_train = tensorflow.keras.utils.to_categorical(y_train, num_classes=4)\n",
        "y_test = tensorflow.keras.utils.to_categorical(y_test, num_classes=4)\n",
        "History=model.fit(x_train,y_train, epochs=15, batch_size=200, verbose=2,validation_data=(x_test,y_test)) "
      ]
    },
    {
      "cell_type": "code",
      "execution_count": null,
      "metadata": {
        "colab": {
          "base_uri": "https://localhost:8080/"
        },
        "id": "VWy7wrZV1WJv",
        "outputId": "3d551951-7345-4640-cfa1-1087962be6ad"
      },
      "outputs": [
        {
          "output_type": "stream",
          "name": "stdout",
          "text": [
            "Model: \"sequential\"\n",
            "_________________________________________________________________\n",
            " Layer (type)                Output Shape              Param #   \n",
            "=================================================================\n",
            " resnet50 (Functional)       (None, 7, 7, 2048)        23587712  \n",
            "                                                                 \n",
            " flatten (Flatten)           (None, 100352)            0         \n",
            "                                                                 \n",
            " dense (Dense)               (None, 4)                 401412    \n",
            "                                                                 \n",
            "=================================================================\n",
            "Total params: 23,989,124\n",
            "Trainable params: 401,412\n",
            "Non-trainable params: 23,587,712\n",
            "_________________________________________________________________\n"
          ]
        }
      ],
      "source": [
        "model.summary()"
      ]
    },
    {
      "cell_type": "code",
      "execution_count": null,
      "metadata": {
        "colab": {
          "base_uri": "https://localhost:8080/",
          "height": 610
        },
        "id": "gT-9XFjJduMG",
        "outputId": "4665c5d4-5536-4a81-94fa-a8ecbaf11d5d"
      },
      "outputs": [
        {
          "output_type": "display_data",
          "data": {
            "text/plain": [
              "<Figure size 432x288 with 1 Axes>"
            ],
            "image/png": "[encoded data removed]"
          },
          "metadata": {
            "needs_background": "light"
          }
        },
        {
          "output_type": "display_data",
          "data": {
            "text/plain": [
              "<Figure size 432x288 with 1 Axes>"
            ],
            "image/png": "[encoded data removed]"
          },
          "metadata": {
            "needs_background": "light"
          }
        },
        {
          "output_type": "execute_result",
          "data": {
            "text/plain": [
              "'predictions = model.predict(x_test) # Make predictions towards the test set\\ny_pred = np.argmax(predictions, axis=1) # Transform predictions into 1-D array with label number\\ny_test = np.argmax(y_test, axis=1)'"
            ],
            "application/vnd.google.colaboratory.intrinsic+json": {
              "type": "string"
            }
          },
          "metadata": {},
          "execution_count": 49
        }
      ],
      "source": [
        "import matplotlib.pyplot as plt\n",
        "import pandas as pd\n",
        "plt.plot(History.history['loss'])\n",
        "plt.plot(History.history['val_loss'])\n",
        "plt.title('model loss')\n",
        "plt.ylabel('loss')\n",
        "plt.xlabel('epoch')\n",
        "plt.legend(['train', 'test'], loc='upper left')\n",
        "plt.show()\n",
        "\n",
        "plt.plot(History.history['accuracy'])\n",
        "plt.plot(History.history['val_accuracy'])\n",
        "plt.title('model accuracy')\n",
        "plt.ylabel('accuracy')\n",
        "plt.xlabel('epoch')\n",
        "plt.legend(['train', 'test'], loc='upper left')\n",
        "plt.ylim(0.5,1.05)\n",
        "plt.show()\n",
        "'''predictions = model.predict(x_test) # Make predictions towards the test set\n",
        "y_pred = np.argmax(predictions, axis=1) # Transform predictions into 1-D array with label number\n",
        "y_test = np.argmax(y_test, axis=1)'''"
      ]
    },
    {
      "cell_type": "code",
      "execution_count": null,
      "metadata": {
        "colab": {
          "base_uri": "https://localhost:8080/",
          "height": 295
        },
        "id": "rjU-en5qoPBj",
        "outputId": "0d334734-3d51-4bdd-9b6a-0244d90cf3df"
      },
      "outputs": [
        {
          "output_type": "display_data",
          "data": {
            "text/plain": [
              "<Figure size 432x288 with 2 Axes>"
            ],
            "image/png": "[encoded data removed]"
          },
          "metadata": {
            "needs_background": "light"
          }
        }
      ],
      "source": [
        "cm=confusion_matrix(y_test,y_pred)\n",
        "cmd_obj = ConfusionMatrixDisplay(cm, display_labels=['Victory', 'Thumbs', 'Fist','Palm'])\n",
        "cmd_obj.plot(values_format='d')\n",
        "cmd_obj.ax_.set(\n",
        "                title='Sklearn Confusion Matrix with labels!!', \n",
        "                xlabel='Predicted Values', \n",
        "                ylabel='Actual values')\n",
        "plt.show()"
      ]
    },
    {
      "cell_type": "code",
      "source": [
        "from sklearn.metrics import classification_report\n",
        "print(classification_report(y_test,y_pred))"
      ],
      "metadata": {
        "colab": {
          "base_uri": "https://localhost:8080/"
        },
        "id": "N05hjB6SolDh",
        "outputId": "02ade2f0-edac-4012-cfc7-48bd30626889"
      },
      "execution_count": null,
      "outputs": [
        {
          "output_type": "stream",
          "name": "stdout",
          "text": [
            "              precision    recall  f1-score   support\n",
            "\n",
            "           0       0.99      0.95      0.97      1600\n",
            "           1       0.98      0.99      0.99      1500\n",
            "           2       1.00      0.99      1.00      1769\n",
            "           3       0.96      1.00      0.98      1426\n",
            "\n",
            "    accuracy                           0.98      6295\n",
            "   macro avg       0.98      0.98      0.98      6295\n",
            "weighted avg       0.98      0.98      0.98      6295\n",
            "\n"
          ]
        }
      ]
    },
    {
      "cell_type": "markdown",
      "source": [
        "**PREDICTION**"
      ],
      "metadata": {
        "id": "dqXnQBWxXw4p"
      }
    },
    {
      "cell_type": "code",
      "source": [
        "tr=\"/content/gdrive/MyDrive/Colab Notebooks/SEGMENTED_DATA/test/1/1.jpg\""
      ],
      "metadata": {
        "id": "zDLrZPJezGGO"
      },
      "execution_count": null,
      "outputs": []
    },
    {
      "cell_type": "code",
      "source": [
        "#m1=[]\n",
        "t = cv2.imread('/content/gdrive/MyDrive/Colab Notebooks/SEGMENTED_DATASET/test/2/4.jpg') # Reads image and returns np.array\n",
        "#t=cv2.imread(t1)\n",
        "#img = cv2.cvtColor(img, cv2.COLOR_BGR2GRAY) # Converts into the corret colorspace (GRAY)\n",
        "t = cv2.resize(t, (200, 200))\n",
        "#m1.append(tryyy)\n",
        "#tryyy=np.array(tryyy)\n",
        "predictions1 = model.predict(t.reshape(1,200,200,3)) "
      ],
      "metadata": {
        "id": "cGVbom09q-jo"
      },
      "execution_count": null,
      "outputs": []
    },
    {
      "cell_type": "code",
      "source": [
        "import operator\n",
        "prediction = {'Victory': predictions1[0][0], \n",
        "                  'Thumb': predictions1[0][1], \n",
        "                  'Fist': predictions1[0][2],\n",
        "                  'Palm': predictions1[0][3],}\n",
        "    # Sorting based on top prediction\n",
        "prediction = sorted(prediction.items(), key=operator.itemgetter(1), reverse=True)"
      ],
      "metadata": {
        "id": "MfzCxXGVrd3l"
      },
      "execution_count": null,
      "outputs": []
    },
    {
      "cell_type": "code",
      "execution_count": null,
      "metadata": {
        "id": "An51va3Tde4f"
      },
      "outputs": [],
      "source": [
        "model_json = model.to_json()\n",
        "with open(\"RESNETMODEL.json\", \"w\") as json_file:\n",
        "    json_file.write(model_json)\n",
        "model.save_weights('RESNETMODEL.h5')"
      ]
    },
    {
      "cell_type": "markdown",
      "metadata": {
        "id": "J7VRKKHoep2I"
      },
      "source": [
        "**INCEPTION V3 MODEL**\n"
      ]
    },
    {
      "cell_type": "code",
      "source": [
        "import tensorflow\n",
        "from tensorflow.keras.models import Sequential\n",
        "from tensorflow.keras.layers import Dense, Conv2D, MaxPool2D , Flatten,Dropout\n",
        "import matplotlib.pyplot as plt\n",
        "import pandas as pd\n",
        "import numpy as np\n",
        "from tensorflow.keras.utils import to_categorical\n",
        "from sklearn.metrics import confusion_matrix,ConfusionMatrixDisplay\n",
        "from tensorflow.keras.applications import InceptionV3\n",
        "incept_conv = InceptionV3(include_top=False,weights=\"imagenet\",input_shape=(200,200,3))\n",
        "for layer in incept_conv.layers[:]:\n",
        "  layer.trainable=False\n",
        "for layer in incept_conv.layers:\n",
        "  print(layer,layer.trainable)"
      ],
      "metadata": {
        "colab": {
          "base_uri": "https://localhost:8080/"
        },
        "id": "wSS6m15QOaic",
        "outputId": "526c8978-d6e3-4cca-9be6-00ad89f9ce6a"
      },
      "execution_count": null,
      "outputs": [
        {
          "output_type": "stream",
          "name": "stdout",
          "text": [
            "<keras.engine.input_layer.InputLayer object at 0x7f30fb401d50> False\n",
            "<keras.layers.convolutional.Conv2D object at 0x7f30f7497290> False\n",
            "<keras.layers.normalization.batch_normalization.BatchNormalization object at 0x7f30f27ad6d0> False\n",
            "<keras.layers.core.activation.Activation object at 0x7f30f1d376d0> False\n",
            "<keras.layers.convolutional.Conv2D object at 0x7f30f03b3810> False\n",
            "<keras.layers.normalization.batch_normalization.BatchNormalization object at 0x7f30f037a110> False\n",
            "<keras.layers.core.activation.Activation object at 0x7f30f4388c50> False\n",
            "<keras.layers.convolutional.Conv2D object at 0x7f30f0388750> False\n",
            "<keras.layers.normalization.batch_normalization.BatchNormalization object at 0x7f30f74a0e90> False\n",
            "<keras.layers.core.activation.Activation object at 0x7f30f9b2e890> False\n",
            "<keras.layers.pooling.MaxPooling2D object at 0x7f30f0392350> False\n",
            "<keras.layers.convolutional.Conv2D object at 0x7f30f031bc50> False\n",
            "<keras.layers.normalization.batch_normalization.BatchNormalization object at 0x7f30f037e6d0> False\n",
            "<keras.layers.core.activation.Activation object at 0x7f30f037a5d0> False\n",
            "<keras.layers.convolutional.Conv2D object at 0x7f30f0325e10> False\n",
            "<keras.layers.normalization.batch_normalization.BatchNormalization object at 0x7f30f032ae10> False\n",
            "<keras.layers.core.activation.Activation object at 0x7f30f031df90> False\n",
            "<keras.layers.pooling.MaxPooling2D object at 0x7f30f0325490> False\n",
            "<keras.layers.convolutional.Conv2D object at 0x7f30f02e1610> False\n",
            "<keras.layers.normalization.batch_normalization.BatchNormalization object at 0x7f30f02e9750> False\n",
            "<keras.layers.core.activation.Activation object at 0x7f30f02f3110> False\n",
            "<keras.layers.convolutional.Conv2D object at 0x7f30f03b3d90> False\n",
            "<keras.layers.convolutional.Conv2D object at 0x7f30f02f3cd0> False\n",
            "<keras.layers.normalization.batch_normalization.BatchNormalization object at 0x7f30f0352390> False\n",
            "<keras.layers.normalization.batch_normalization.BatchNormalization object at 0x7f30f034a950> False\n",
            "<keras.layers.core.activation.Activation object at 0x7f30f034a8d0> False\n",
            "<keras.layers.core.activation.Activation object at 0x7f30f0344490> False\n",
            "<keras.layers.pooling.AveragePooling2D object at 0x7f30f02fdc90> False\n",
            "<keras.layers.convolutional.Conv2D object at 0x7f30f0339f90> False\n",
            "<keras.layers.convolutional.Conv2D object at 0x7f30f03363d0> False\n",
            "<keras.layers.convolutional.Conv2D object at 0x7f30f0331bd0> False\n",
            "<keras.layers.convolutional.Conv2D object at 0x7f30f0371d90> False\n",
            "<keras.layers.normalization.batch_normalization.BatchNormalization object at 0x7f30f033fa50> False\n",
            "<keras.layers.normalization.batch_normalization.BatchNormalization object at 0x7f30f02e1150> False\n",
            "<keras.layers.normalization.batch_normalization.BatchNormalization object at 0x7f30f0371390> False\n",
            "<keras.layers.normalization.batch_normalization.BatchNormalization object at 0x7f30f02ff5d0> False\n",
            "<keras.layers.core.activation.Activation object at 0x7f30f032d190> False\n",
            "<keras.layers.core.activation.Activation object at 0x7f30f02e4590> False\n",
            "<keras.layers.core.activation.Activation object at 0x7f30f03b3b90> False\n",
            "<keras.layers.core.activation.Activation object at 0x7f30f0305910> False\n",
            "<keras.layers.merge.Concatenate object at 0x7f30f0308810> False\n",
            "<keras.layers.convolutional.Conv2D object at 0x7f30f02c0210> False\n",
            "<keras.layers.normalization.batch_normalization.BatchNormalization object at 0x7f30f9f1ec50> False\n",
            "<keras.layers.core.activation.Activation object at 0x7f30f02c5ad0> False\n",
            "<keras.layers.convolutional.Conv2D object at 0x7f30f029ee50> False\n",
            "<keras.layers.convolutional.Conv2D object at 0x7f30f02caa90> False\n",
            "<keras.layers.normalization.batch_normalization.BatchNormalization object at 0x7f30f02a0190> False\n",
            "<keras.layers.normalization.batch_normalization.BatchNormalization object at 0x7f30f02d2d50> False\n",
            "<keras.layers.core.activation.Activation object at 0x7f30f1d37650> False\n",
            "<keras.layers.core.activation.Activation object at 0x7f30f02ccb90> False\n",
            "<keras.layers.pooling.AveragePooling2D object at 0x7f30f025ebd0> False\n",
            "<keras.layers.convolutional.Conv2D object at 0x7f30f0305950> False\n",
            "<keras.layers.convolutional.Conv2D object at 0x7f30f02add50> False\n",
            "<keras.layers.convolutional.Conv2D object at 0x7f30f02a0810> False\n",
            "<keras.layers.convolutional.Conv2D object at 0x7f30f02750d0> False\n",
            "<keras.layers.normalization.batch_normalization.BatchNormalization object at 0x7f30f0310b90> False\n",
            "<keras.layers.normalization.batch_normalization.BatchNormalization object at 0x7f30f029ac50> False\n",
            "<keras.layers.normalization.batch_normalization.BatchNormalization object at 0x7f30f02660d0> False\n",
            "<keras.layers.normalization.batch_normalization.BatchNormalization object at 0x7f30f027a210> False\n",
            "<keras.layers.core.activation.Activation object at 0x7f30f02ff110> False\n",
            "<keras.layers.core.activation.Activation object at 0x7f30f02ba350> False\n",
            "<keras.layers.core.activation.Activation object at 0x7f30f0260c50> False\n",
            "<keras.layers.core.activation.Activation object at 0x7f30f02753d0> False\n",
            "<keras.layers.merge.Concatenate object at 0x7f30f026e790> False\n",
            "<keras.layers.convolutional.Conv2D object at 0x7f30f0226a10> False\n",
            "<keras.layers.normalization.batch_normalization.BatchNormalization object at 0x7f30f02899d0> False\n",
            "<keras.layers.core.activation.Activation object at 0x7f30f02d2390> False\n",
            "<keras.layers.convolutional.Conv2D object at 0x7f30f026acd0> False\n",
            "<keras.layers.convolutional.Conv2D object at 0x7f30f0259810> False\n",
            "<keras.layers.normalization.batch_normalization.BatchNormalization object at 0x7f30f0219210> False\n",
            "<keras.layers.normalization.batch_normalization.BatchNormalization object at 0x7f30f0310f50> False\n",
            "<keras.layers.core.activation.Activation object at 0x7f30f0292d50> False\n",
            "<keras.layers.core.activation.Activation object at 0x7f30f029aed0> False\n",
            "<keras.layers.pooling.AveragePooling2D object at 0x7f30f0238b90> False\n",
            "<keras.layers.convolutional.Conv2D object at 0x7f30f027f750> False\n",
            "<keras.layers.convolutional.Conv2D object at 0x7f30f028f650> False\n",
            "<keras.layers.convolutional.Conv2D object at 0x7f30f031b350> False\n",
            "<keras.layers.convolutional.Conv2D object at 0x7f30f0232490> False\n",
            "<keras.layers.normalization.batch_normalization.BatchNormalization object at 0x7f30f0289c50> False\n",
            "<keras.layers.normalization.batch_normalization.BatchNormalization object at 0x7f30f0226210> False\n",
            "<keras.layers.normalization.batch_normalization.BatchNormalization object at 0x7f30f0232310> False\n",
            "<keras.layers.normalization.batch_normalization.BatchNormalization object at 0x7f30f023e7d0> False\n",
            "<keras.layers.core.activation.Activation object at 0x7f30f02809d0> False\n",
            "<keras.layers.core.activation.Activation object at 0x7f30f022ba50> False\n",
            "<keras.layers.core.activation.Activation object at 0x7f30f0279510> False\n",
            "<keras.layers.core.activation.Activation object at 0x7f30f0244510> False\n",
            "<keras.layers.merge.Concatenate object at 0x7f30f0244c10> False\n",
            "<keras.layers.convolutional.Conv2D object at 0x7f30f024e750> False\n",
            "<keras.layers.normalization.batch_normalization.BatchNormalization object at 0x7f30f01e0810> False\n",
            "<keras.layers.core.activation.Activation object at 0x7f30f01e4390> False\n",
            "<keras.layers.convolutional.Conv2D object at 0x7f30f01e7890> False\n",
            "<keras.layers.normalization.batch_normalization.BatchNormalization object at 0x7f30f01f8510> False\n",
            "<keras.layers.core.activation.Activation object at 0x7f30f0202550> False\n",
            "<keras.layers.convolutional.Conv2D object at 0x7f30f023edd0> False\n",
            "<keras.layers.convolutional.Conv2D object at 0x7f30f01ecf10> False\n",
            "<keras.layers.normalization.batch_normalization.BatchNormalization object at 0x7f30f0250c50> False\n",
            "<keras.layers.normalization.batch_normalization.BatchNormalization object at 0x7f30f020c1d0> False\n",
            "<keras.layers.core.activation.Activation object at 0x7f30f0254110> False\n",
            "<keras.layers.core.activation.Activation object at 0x7f30f02151d0> False\n",
            "<keras.layers.pooling.MaxPooling2D object at 0x7f30f02150d0> False\n",
            "<keras.layers.merge.Concatenate object at 0x7f30f01a1150> False\n",
            "<keras.layers.convolutional.Conv2D object at 0x7f30f015cd50> False\n",
            "<keras.layers.normalization.batch_normalization.BatchNormalization object at 0x7f30f01c6d10> False\n",
            "<keras.layers.core.activation.Activation object at 0x7f30f01b5450> False\n",
            "<keras.layers.convolutional.Conv2D object at 0x7f30f020c050> False\n",
            "<keras.layers.normalization.batch_normalization.BatchNormalization object at 0x7f30f01a4ed0> False\n",
            "<keras.layers.core.activation.Activation object at 0x7f30f0206610> False\n",
            "<keras.layers.convolutional.Conv2D object at 0x7f30f01a4190> False\n",
            "<keras.layers.convolutional.Conv2D object at 0x7f30f0202f10> False\n",
            "<keras.layers.normalization.batch_normalization.BatchNormalization object at 0x7f30f01bb290> False\n",
            "<keras.layers.normalization.batch_normalization.BatchNormalization object at 0x7f30f0249d10> False\n",
            "<keras.layers.core.activation.Activation object at 0x7f30f01bbf50> False\n",
            "<keras.layers.core.activation.Activation object at 0x7f30f01e0210> False\n",
            "<keras.layers.convolutional.Conv2D object at 0x7f30f01c0a90> False\n",
            "<keras.layers.convolutional.Conv2D object at 0x7f30f0206490> False\n",
            "<keras.layers.normalization.batch_normalization.BatchNormalization object at 0x7f30f01c6690> False\n",
            "<keras.layers.normalization.batch_normalization.BatchNormalization object at 0x7f30f029ed50> False\n",
            "<keras.layers.core.activation.Activation object at 0x7f30f01cd7d0> False\n",
            "<keras.layers.core.activation.Activation object at 0x7f30f02ad810> False\n",
            "<keras.layers.pooling.AveragePooling2D object at 0x7f30f0310610> False\n",
            "<keras.layers.convolutional.Conv2D object at 0x7f30f01a1ed0> False\n",
            "<keras.layers.convolutional.Conv2D object at 0x7f30f01cdb90> False\n",
            "<keras.layers.convolutional.Conv2D object at 0x7f30f0279610> False\n",
            "<keras.layers.convolutional.Conv2D object at 0x7f30f0173350> False\n",
            "<keras.layers.normalization.batch_normalization.BatchNormalization object at 0x7f30f01ad1d0> False\n",
            "<keras.layers.normalization.batch_normalization.BatchNormalization object at 0x7f30f0158390> False\n",
            "<keras.layers.normalization.batch_normalization.BatchNormalization object at 0x7f30f0169790> False\n",
            "<keras.layers.normalization.batch_normalization.BatchNormalization object at 0x7f30f0175450> False\n",
            "<keras.layers.core.activation.Activation object at 0x7f30f01a1650> False\n",
            "<keras.layers.core.activation.Activation object at 0x7f30f0161410> False\n",
            "<keras.layers.core.activation.Activation object at 0x7f30f016ef50> False\n",
            "<keras.layers.core.activation.Activation object at 0x7f30f0179210> False\n",
            "<keras.layers.merge.Concatenate object at 0x7f30f0252f10> False\n",
            "<keras.layers.convolutional.Conv2D object at 0x7f30f0144210> False\n",
            "<keras.layers.normalization.batch_normalization.BatchNormalization object at 0x7f30f01273d0> False\n",
            "<keras.layers.core.activation.Activation object at 0x7f30f013fe90> False\n",
            "<keras.layers.convolutional.Conv2D object at 0x7f30f0150290> False\n",
            "<keras.layers.normalization.batch_normalization.BatchNormalization object at 0x7f30f0132310> False\n",
            "<keras.layers.core.activation.Activation object at 0x7f30f00d7f90> False\n",
            "<keras.layers.convolutional.Conv2D object at 0x7f30f0182690> False\n",
            "<keras.layers.convolutional.Conv2D object at 0x7f30f00dbb50> False\n",
            "<keras.layers.normalization.batch_normalization.BatchNormalization object at 0x7f30f0192510> False\n",
            "<keras.layers.normalization.batch_normalization.BatchNormalization object at 0x7f30f00e4fd0> False\n",
            "<keras.layers.core.activation.Activation object at 0x7f30f011d550> False\n",
            "<keras.layers.core.activation.Activation object at 0x7f30f00da850> False\n",
            "<keras.layers.convolutional.Conv2D object at 0x7f30f011dc50> False\n",
            "<keras.layers.convolutional.Conv2D object at 0x7f30f00d7e50> False\n",
            "<keras.layers.normalization.batch_normalization.BatchNormalization object at 0x7f30f0125210> False\n",
            "<keras.layers.normalization.batch_normalization.BatchNormalization object at 0x7f30f00f7150> False\n",
            "<keras.layers.core.activation.Activation object at 0x7f30f012c210> False\n",
            "<keras.layers.core.activation.Activation object at 0x7f30f00f1c50> False\n",
            "<keras.layers.pooling.AveragePooling2D object at 0x7f30f01823d0> False\n",
            "<keras.layers.convolutional.Conv2D object at 0x7f30f0173190> False\n",
            "<keras.layers.convolutional.Conv2D object at 0x7f30f012c050> False\n",
            "<keras.layers.convolutional.Conv2D object at 0x7f30f00edc10> False\n",
            "<keras.layers.convolutional.Conv2D object at 0x7f30f0195c90> False\n",
            "<keras.layers.normalization.batch_normalization.BatchNormalization object at 0x7f30f0184910> False\n",
            "<keras.layers.normalization.batch_normalization.BatchNormalization object at 0x7f30f01361d0> False\n",
            "<keras.layers.normalization.batch_normalization.BatchNormalization object at 0x7f30f0125890> False\n",
            "<keras.layers.normalization.batch_normalization.BatchNormalization object at 0x7f30f017d850> False\n",
            "<keras.layers.core.activation.Activation object at 0x7f30f01893d0> False\n",
            "<keras.layers.core.activation.Activation object at 0x7f30f013f750> False\n",
            "<keras.layers.core.activation.Activation object at 0x7f30f011fbd0> False\n",
            "<keras.layers.core.activation.Activation object at 0x7f30f0252b50> False\n",
            "<keras.layers.merge.Concatenate object at 0x7f30f0144710> False\n",
            "<keras.layers.convolutional.Conv2D object at 0x7f30f009bdd0> False\n",
            "<keras.layers.normalization.batch_normalization.BatchNormalization object at 0x7f30f00b3250> False\n",
            "<keras.layers.core.activation.Activation object at 0x7f30f00bd250> False\n",
            "<keras.layers.convolutional.Conv2D object at 0x7f30f00bddd0> False\n",
            "<keras.layers.normalization.batch_normalization.BatchNormalization object at 0x7f30f00b0790> False\n",
            "<keras.layers.core.activation.Activation object at 0x7f30f00c8bd0> False\n",
            "<keras.layers.convolutional.Conv2D object at 0x7f30f01ec810> False\n",
            "<keras.layers.convolutional.Conv2D object at 0x7f30f00c97d0> False\n",
            "<keras.layers.normalization.batch_normalization.BatchNormalization object at 0x7f30f01058d0> False\n",
            "<keras.layers.normalization.batch_normalization.BatchNormalization object at 0x7f30f00b3e10> False\n",
            "<keras.layers.core.activation.Activation object at 0x7f30f0211bd0> False\n",
            "<keras.layers.core.activation.Activation object at 0x7f30f0057710> False\n",
            "<keras.layers.convolutional.Conv2D object at 0x7f30f0105610> False\n",
            "<keras.layers.convolutional.Conv2D object at 0x7f30f005a910> False\n",
            "<keras.layers.normalization.batch_normalization.BatchNormalization object at 0x7f30f0110290> False\n",
            "<keras.layers.normalization.batch_normalization.BatchNormalization object at 0x7f30f0062d50> False\n",
            "<keras.layers.core.activation.Activation object at 0x7f30f0098310> False\n",
            "<keras.layers.core.activation.Activation object at 0x7f30f005e250> False\n",
            "<keras.layers.pooling.AveragePooling2D object at 0x7f30f006e950> False\n",
            "<keras.layers.convolutional.Conv2D object at 0x7f30f0325150> False\n",
            "<keras.layers.convolutional.Conv2D object at 0x7f30f0098a10> False\n",
            "<keras.layers.convolutional.Conv2D object at 0x7f30f0057910> False\n",
            "<keras.layers.convolutional.Conv2D object at 0x7f30f007ef90> False\n",
            "<keras.layers.normalization.batch_normalization.BatchNormalization object at 0x7f30f0101350> False\n",
            "<keras.layers.normalization.batch_normalization.BatchNormalization object at 0x7f30f00a12d0> False\n",
            "<keras.layers.normalization.batch_normalization.BatchNormalization object at 0x7f30f0074310> False\n",
            "<keras.layers.normalization.batch_normalization.BatchNormalization object at 0x7f30f0084110> False\n",
            "<keras.layers.core.activation.Activation object at 0x7f30f00fc250> False\n",
            "<keras.layers.core.activation.Activation object at 0x7f30f00aa110> False\n",
            "<keras.layers.core.activation.Activation object at 0x7f30f006f9d0> False\n",
            "<keras.layers.core.activation.Activation object at 0x7f30f007ed10> False\n",
            "<keras.layers.merge.Concatenate object at 0x7f30f0079d10> False\n",
            "<keras.layers.convolutional.Conv2D object at 0x7f30f0020090> False\n",
            "<keras.layers.normalization.batch_normalization.BatchNormalization object at 0x7f30f023aa10> False\n",
            "<keras.layers.core.activation.Activation object at 0x7f30f0202190> False\n",
            "<keras.layers.convolutional.Conv2D object at 0x7f30f0024810> False\n",
            "<keras.layers.normalization.batch_normalization.BatchNormalization object at 0x7f30f00245d0> False\n",
            "<keras.layers.core.activation.Activation object at 0x7f30f0026850> False\n",
            "<keras.layers.convolutional.Conv2D object at 0x7f30f0088a90> False\n",
            "<keras.layers.convolutional.Conv2D object at 0x7f30f0092150> False\n",
            "<keras.layers.normalization.batch_normalization.BatchNormalization object at 0x7f30f00b7710> False\n",
            "<keras.layers.normalization.batch_normalization.BatchNormalization object at 0x7f30f0030150> False\n",
            "<keras.layers.core.activation.Activation object at 0x7f30f0079290> False\n",
            "<keras.layers.core.activation.Activation object at 0x7f30f0021750> False\n",
            "<keras.layers.convolutional.Conv2D object at 0x7f30f0068890> False\n",
            "<keras.layers.convolutional.Conv2D object at 0x7f30f003a110> False\n",
            "<keras.layers.normalization.batch_normalization.BatchNormalization object at 0x7f30f020c8d0> False\n",
            "<keras.layers.normalization.batch_normalization.BatchNormalization object at 0x7f30f0049990> False\n",
            "<keras.layers.core.activation.Activation object at 0x7f30f0102210> False\n",
            "<keras.layers.core.activation.Activation object at 0x7f30f0045a10> False\n",
            "<keras.layers.pooling.AveragePooling2D object at 0x7f30f0026650> False\n",
            "<keras.layers.convolutional.Conv2D object at 0x7f30f0092650> False\n",
            "<keras.layers.convolutional.Conv2D object at 0x7f30f0110bd0> False\n",
            "<keras.layers.convolutional.Conv2D object at 0x7f30f0021890> False\n",
            "<keras.layers.convolutional.Conv2D object at 0x7f3079b87c90> False\n",
            "<keras.layers.normalization.batch_normalization.BatchNormalization object at 0x7f30f0017c50> False\n",
            "<keras.layers.normalization.batch_normalization.BatchNormalization object at 0x7f30f0170650> False\n",
            "<keras.layers.normalization.batch_normalization.BatchNormalization object at 0x7f30f0020b10> False\n",
            "<keras.layers.normalization.batch_normalization.BatchNormalization object at 0x7f30f0055b90> False\n",
            "<keras.layers.core.activation.Activation object at 0x7f30f008d050> False\n",
            "<keras.layers.core.activation.Activation object at 0x7f30f0182390> False\n",
            "<keras.layers.core.activation.Activation object at 0x7f3079b87450> False\n",
            "<keras.layers.core.activation.Activation object at 0x7f3079b97490> False\n",
            "<keras.layers.merge.Concatenate object at 0x7f3079b97fd0> False\n",
            "<keras.layers.convolutional.Conv2D object at 0x7f3079ba2cd0> False\n",
            "<keras.layers.normalization.batch_normalization.BatchNormalization object at 0x7f3079b8ded0> False\n",
            "<keras.layers.core.activation.Activation object at 0x7f3079b55cd0> False\n",
            "<keras.layers.convolutional.Conv2D object at 0x7f3079b5ab10> False\n",
            "<keras.layers.normalization.batch_normalization.BatchNormalization object at 0x7f3079b5a550> False\n",
            "<keras.layers.core.activation.Activation object at 0x7f3079bb3990> False\n",
            "<keras.layers.convolutional.Conv2D object at 0x7f3079b97d50> False\n",
            "<keras.layers.convolutional.Conv2D object at 0x7f3079b55950> False\n",
            "<keras.layers.normalization.batch_normalization.BatchNormalization object at 0x7f3079b97450> False\n",
            "<keras.layers.normalization.batch_normalization.BatchNormalization object at 0x7f3079b63a50> False\n",
            "<keras.layers.core.activation.Activation object at 0x7f3079ba6850> False\n",
            "<keras.layers.core.activation.Activation object at 0x7f3079b4ae90> False\n",
            "<keras.layers.convolutional.Conv2D object at 0x7f3079ba9fd0> False\n",
            "<keras.layers.convolutional.Conv2D object at 0x7f3079b97a90> False\n",
            "<keras.layers.normalization.batch_normalization.BatchNormalization object at 0x7f3079b8db50> False\n",
            "<keras.layers.normalization.batch_normalization.BatchNormalization object at 0x7f3079b87d90> False\n",
            "<keras.layers.core.activation.Activation object at 0x7f3079bae1d0> False\n",
            "<keras.layers.core.activation.Activation object at 0x7f3079ba2b90> False\n",
            "<keras.layers.pooling.MaxPooling2D object at 0x7f30f0045850> False\n",
            "<keras.layers.merge.Concatenate object at 0x7f30f02373d0> False\n",
            "<keras.layers.convolutional.Conv2D object at 0x7f3079b821d0> False\n",
            "<keras.layers.normalization.batch_normalization.BatchNormalization object at 0x7f3079b0ff10> False\n",
            "<keras.layers.core.activation.Activation object at 0x7f3079b19810> False\n",
            "<keras.layers.convolutional.Conv2D object at 0x7f30f01b2150> False\n",
            "<keras.layers.convolutional.Conv2D object at 0x7f3079b19450> False\n",
            "<keras.layers.normalization.batch_normalization.BatchNormalization object at 0x7f30f0074a50> False\n",
            "<keras.layers.normalization.batch_normalization.BatchNormalization object at 0x7f3079b19490> False\n",
            "<keras.layers.core.activation.Activation object at 0x7f30f003ed90> False\n",
            "<keras.layers.core.activation.Activation object at 0x7f3079b24cd0> False\n",
            "<keras.layers.convolutional.Conv2D object at 0x7f30f0237090> False\n",
            "<keras.layers.convolutional.Conv2D object at 0x7f3079b70690> False\n",
            "<keras.layers.convolutional.Conv2D object at 0x7f3079b2c890> False\n",
            "<keras.layers.convolutional.Conv2D object at 0x7f3079b41a90> False\n",
            "<keras.layers.pooling.AveragePooling2D object at 0x7f3079ad1310> False\n",
            "<keras.layers.convolutional.Conv2D object at 0x7f30f02b2ed0> False\n",
            "<keras.layers.normalization.batch_normalization.BatchNormalization object at 0x7f3079b78890> False\n",
            "<keras.layers.normalization.batch_normalization.BatchNormalization object at 0x7f3079b78dd0> False\n",
            "<keras.layers.normalization.batch_normalization.BatchNormalization object at 0x7f3079b2c190> False\n",
            "<keras.layers.normalization.batch_normalization.BatchNormalization object at 0x7f3079b41d50> False\n",
            "<keras.layers.convolutional.Conv2D object at 0x7f3079ad1650> False\n",
            "<keras.layers.normalization.batch_normalization.BatchNormalization object at 0x7f30f02371d0> False\n",
            "<keras.layers.core.activation.Activation object at 0x7f3079b78e90> False\n",
            "<keras.layers.core.activation.Activation object at 0x7f3079b0a350> False\n",
            "<keras.layers.core.activation.Activation object at 0x7f3079b15c10> False\n",
            "<keras.layers.core.activation.Activation object at 0x7f3079acba50> False\n",
            "<keras.layers.normalization.batch_normalization.BatchNormalization object at 0x7f3079b39890> False\n",
            "<keras.layers.core.activation.Activation object at 0x7f3079ba26d0> False\n",
            "<keras.layers.merge.Concatenate object at 0x7f3079b0acd0> False\n",
            "<keras.layers.merge.Concatenate object at 0x7f3079b2c650> False\n",
            "<keras.layers.core.activation.Activation object at 0x7f30f9aef710> False\n",
            "<keras.layers.merge.Concatenate object at 0x7f3079ae2450> False\n",
            "<keras.layers.convolutional.Conv2D object at 0x7f3079af0390> False\n",
            "<keras.layers.normalization.batch_normalization.BatchNormalization object at 0x7f3079b7e610> False\n",
            "<keras.layers.core.activation.Activation object at 0x7f3079b31b50> False\n",
            "<keras.layers.convolutional.Conv2D object at 0x7f3079af0250> False\n",
            "<keras.layers.convolutional.Conv2D object at 0x7f3079aea750> False\n",
            "<keras.layers.normalization.batch_normalization.BatchNormalization object at 0x7f3079af4410> False\n",
            "<keras.layers.normalization.batch_normalization.BatchNormalization object at 0x7f3079b777d0> False\n",
            "<keras.layers.core.activation.Activation object at 0x7f3079afe150> False\n",
            "<keras.layers.core.activation.Activation object at 0x7f3079b78d10> False\n",
            "<keras.layers.convolutional.Conv2D object at 0x7f3079afefd0> False\n",
            "<keras.layers.convolutional.Conv2D object at 0x7f3079b41310> False\n",
            "<keras.layers.convolutional.Conv2D object at 0x7f3079b0f110> False\n",
            "<keras.layers.convolutional.Conv2D object at 0x7f3079b31ad0> False\n",
            "<keras.layers.pooling.AveragePooling2D object at 0x7f3079aa9050> False\n",
            "<keras.layers.convolutional.Conv2D object at 0x7f3079ae2d90> False\n",
            "<keras.layers.normalization.batch_normalization.BatchNormalization object at 0x7f3079afef50> False\n",
            "<keras.layers.normalization.batch_normalization.BatchNormalization object at 0x7f3079ad1a10> False\n",
            "<keras.layers.normalization.batch_normalization.BatchNormalization object at 0x7f3079b82f10> False\n",
            "<keras.layers.normalization.batch_normalization.BatchNormalization object at 0x7f3079a98210> False\n",
            "<keras.layers.convolutional.Conv2D object at 0x7f3079aa9790> False\n",
            "<keras.layers.normalization.batch_normalization.BatchNormalization object at 0x7f3079ad8ed0> False\n",
            "<keras.layers.core.activation.Activation object at 0x7f3079adb310> False\n",
            "<keras.layers.core.activation.Activation object at 0x7f3079acbe90> False\n",
            "<keras.layers.core.activation.Activation object at 0x7f3079b41190> False\n",
            "<keras.layers.core.activation.Activation object at 0x7f3079a9ca90> False\n",
            "<keras.layers.normalization.batch_normalization.BatchNormalization object at 0x7f3079a98dd0> False\n",
            "<keras.layers.core.activation.Activation object at 0x7f3079ae6110> False\n",
            "<keras.layers.merge.Concatenate object at 0x7f3079b3c710> False\n",
            "<keras.layers.merge.Concatenate object at 0x7f3079aa9690> False\n",
            "<keras.layers.core.activation.Activation object at 0x7f3079abd690> False\n",
            "<keras.layers.merge.Concatenate object at 0x7f3079ab8b10> False\n"
          ]
        }
      ]
    },
    {
      "cell_type": "code",
      "execution_count": null,
      "metadata": {
        "colab": {
          "base_uri": "https://localhost:8080/"
        },
        "id": "3Qsu5HGfyceM",
        "outputId": "e5d34a71-60e0-4a60-bd86-f14b12bca050"
      },
      "outputs": [
        {
          "output_type": "stream",
          "name": "stdout",
          "text": [
            "Model: \"sequential_1\"\n",
            "_________________________________________________________________\n",
            " Layer (type)                Output Shape              Param #   \n",
            "=================================================================\n",
            " inception_v3 (Functional)   (None, 4, 4, 2048)        21802784  \n",
            "                                                                 \n",
            " flatten_1 (Flatten)         (None, 32768)             0         \n",
            "                                                                 \n",
            " dense_2 (Dense)             (None, 512)               16777728  \n",
            "                                                                 \n",
            " dense_3 (Dense)             (None, 4)                 2052      \n",
            "                                                                 \n",
            "=================================================================\n",
            "Total params: 38,582,564\n",
            "Trainable params: 16,779,780\n",
            "Non-trainable params: 21,802,784\n",
            "_________________________________________________________________\n",
            "Epoch 1/15\n",
            "61/61 - 78s - loss: 191.6389 - accuracy: 0.8089 - val_loss: 16.6591 - val_accuracy: 0.9160 - 78s/epoch - 1s/step\n",
            "Epoch 2/15\n",
            "61/61 - 64s - loss: 4.8768 - accuracy: 0.9582 - val_loss: 8.9923 - val_accuracy: 0.9250 - 64s/epoch - 1s/step\n",
            "Epoch 3/15\n",
            "61/61 - 64s - loss: 1.9557 - accuracy: 0.9701 - val_loss: 4.4274 - val_accuracy: 0.9504 - 64s/epoch - 1s/step\n",
            "Epoch 4/15\n",
            "61/61 - 64s - loss: 1.1895 - accuracy: 0.9798 - val_loss: 4.6214 - val_accuracy: 0.9401 - 64s/epoch - 1s/step\n",
            "Epoch 5/15\n",
            "61/61 - 64s - loss: 0.5569 - accuracy: 0.9849 - val_loss: 6.0051 - val_accuracy: 0.9225 - 64s/epoch - 1s/step\n",
            "Epoch 6/15\n",
            "61/61 - 64s - loss: 1.7188 - accuracy: 0.9729 - val_loss: 9.4718 - val_accuracy: 0.8912 - 64s/epoch - 1s/step\n",
            "Epoch 7/15\n",
            "61/61 - 64s - loss: 1.3415 - accuracy: 0.9778 - val_loss: 5.9527 - val_accuracy: 0.9307 - 64s/epoch - 1s/step\n",
            "Epoch 8/15\n",
            "61/61 - 64s - loss: 0.8220 - accuracy: 0.9850 - val_loss: 3.2716 - val_accuracy: 0.9590 - 64s/epoch - 1s/step\n",
            "Epoch 9/15\n",
            "61/61 - 64s - loss: 0.2399 - accuracy: 0.9933 - val_loss: 3.6847 - val_accuracy: 0.9541 - 64s/epoch - 1s/step\n",
            "Epoch 10/15\n",
            "61/61 - 64s - loss: 0.4025 - accuracy: 0.9913 - val_loss: 1.9239 - val_accuracy: 0.9625 - 64s/epoch - 1s/step\n",
            "Epoch 11/15\n",
            "61/61 - 64s - loss: 0.3433 - accuracy: 0.9921 - val_loss: 2.6042 - val_accuracy: 0.9644 - 64s/epoch - 1s/step\n",
            "Epoch 12/15\n",
            "61/61 - 64s - loss: 0.1975 - accuracy: 0.9945 - val_loss: 2.5195 - val_accuracy: 0.9676 - 64s/epoch - 1s/step\n",
            "Epoch 13/15\n",
            "61/61 - 64s - loss: 0.1182 - accuracy: 0.9956 - val_loss: 4.5154 - val_accuracy: 0.9436 - 64s/epoch - 1s/step\n",
            "Epoch 14/15\n",
            "61/61 - 64s - loss: 0.4269 - accuracy: 0.9884 - val_loss: 4.0673 - val_accuracy: 0.9589 - 64s/epoch - 1s/step\n",
            "Epoch 15/15\n",
            "61/61 - 64s - loss: 0.1864 - accuracy: 0.9951 - val_loss: 2.0071 - val_accuracy: 0.9746 - 64s/epoch - 1s/step\n"
          ]
        }
      ],
      "source": [
        "model2=Sequential()\n",
        "model2.add(incept_conv)\n",
        "model2.add(Flatten())\n",
        "model2.add(Dense(512,activation='relu'))\n",
        "model2.add(Dense(4,activation='softmax'))\n",
        "model2.summary()\n",
        "model2.compile(optimizer='adam', loss='categorical_crossentropy', metrics=['accuracy'])\n",
        "x_train = np.array(x_train, dtype=\"uint8\")\n",
        "y_train = np.array(y_train)\n",
        "x_test = np.array(x_test, dtype=\"uint8\")\n",
        "y_test = np.array(y_test)\n",
        "y_train = tensorflow.keras.utils.to_categorical(y_train, num_classes=4)\n",
        "y_test = tensorflow.keras.utils.to_categorical(y_test, num_classes=4)\n",
        "History2=model2.fit(x_train,y_train, epochs=15, batch_size=240, verbose=2,validation_data=(x_test,y_test)) "
      ]
    },
    {
      "cell_type": "code",
      "execution_count": null,
      "metadata": {
        "colab": {
          "base_uri": "https://localhost:8080/",
          "height": 573
        },
        "id": "a_rzEeU4ysz1",
        "outputId": "f87287ab-c7f3-49e2-e77a-2d1a53bede55"
      },
      "outputs": [
        {
          "output_type": "display_data",
          "data": {
            "text/plain": [
              "<Figure size 432x288 with 1 Axes>"
            ],
            "image/png": "[encoded data removed]"
          },
          "metadata": {
            "needs_background": "light"
          }
        },
        {
          "output_type": "display_data",
          "data": {
            "text/plain": [
              "<Figure size 432x288 with 1 Axes>"
            ],
            "image/png": "[encoded data removed]"
          },
          "metadata": {
            "needs_background": "light"
          }
        }
      ],
      "source": [
        "import matplotlib.pyplot as plt\n",
        "import matplotlib.axes as ax\n",
        "import pandas as pd\n",
        "plt.plot(History2.history['loss'])\n",
        "plt.plot(History2.history['val_loss'])\n",
        "plt.title('model loss')\n",
        "plt.ylabel('loss')\n",
        "plt.xlabel('epoch')\n",
        "plt.legend(['train', 'test'], loc='upper left')\n",
        "plt.show()\n",
        "\n",
        "plt.plot(History2.history['accuracy'])\n",
        "plt.plot(History2.history['val_accuracy'])\n",
        "plt.title('model accuracy')\n",
        "plt.ylabel('accuracy')\n",
        "plt.xlabel('epoch')\n",
        "plt.legend(['train', 'test'], loc='upper left')\n",
        "plt.ylim(0.5,1.05)\n",
        "plt.show()\n",
        "predictions = model2.predict(x_test) # Make predictions towards the test set\n",
        "y_pred = np.argmax(predictions, axis=1) # Transform predictions into 1-D array with label number\n",
        "y_test = np.argmax(y_test, axis=1)"
      ]
    },
    {
      "cell_type": "code",
      "execution_count": null,
      "metadata": {
        "colab": {
          "base_uri": "https://localhost:8080/",
          "height": 295
        },
        "id": "YNXbpdR_zEFo",
        "outputId": "a6519192-ebe1-4ae8-af48-0491f10367f3"
      },
      "outputs": [
        {
          "output_type": "display_data",
          "data": {
            "text/plain": [
              "<Figure size 432x288 with 2 Axes>"
            ],
            "image/png": "[encoded data removed]"
          },
          "metadata": {
            "needs_background": "light"
          }
        }
      ],
      "source": [
        "cm=confusion_matrix(y_test,y_pred)\n",
        "cmd_obj = ConfusionMatrixDisplay(cm, display_labels=['Victory', 'Thumbs', 'Fist','Palm'])\n",
        "cmd_obj.plot(values_format='d')\n",
        "cmd_obj.ax_.set(\n",
        "                title='Sklearn Confusion Matrix with labels!!', \n",
        "                xlabel='Predicted Values', \n",
        "                ylabel='Actual values')\n",
        "plt.show()"
      ]
    },
    {
      "cell_type": "code",
      "source": [
        "from sklearn.metrics import classification_report\n",
        "print(classification_report(y_test,y_pred))"
      ],
      "metadata": {
        "colab": {
          "base_uri": "https://localhost:8080/"
        },
        "id": "nSb1mxQ_Zxvb",
        "outputId": "f3668949-9299-4eae-df46-5d034e7d09b2"
      },
      "execution_count": null,
      "outputs": [
        {
          "output_type": "stream",
          "name": "stdout",
          "text": [
            "              precision    recall  f1-score   support\n",
            "\n",
            "           0       0.98      0.93      0.96      1600\n",
            "           1       0.97      0.98      0.98      1500\n",
            "           2       0.99      0.99      0.99      1769\n",
            "           3       0.95      0.99      0.97      1426\n",
            "\n",
            "    accuracy                           0.97      6295\n",
            "   macro avg       0.97      0.97      0.97      6295\n",
            "weighted avg       0.97      0.97      0.97      6295\n",
            "\n"
          ]
        }
      ]
    },
    {
      "cell_type": "code",
      "execution_count": null,
      "metadata": {
        "id": "AaSchsAHzJIE"
      },
      "outputs": [],
      "source": [
        "model2_json = model2.to_json()\n",
        "with open(\"VGGMODELNEW.json\", \"w\") as json_file:\n",
        "    json_file.write(model2_json)\n",
        "model2.save_weights('VGGMODELNEW.h5')"
      ]
    }
  ],
  "metadata": {
    "colab": {
      "collapsed_sections": [],
      "name": "gitRESNET50+INCEPTIONV3.ipynb",
      "provenance": []
    },
    "kernelspec": {
      "display_name": "Python 3",
      "name": "python3"
    },
    "language_info": {
      "name": "python"
    },
    "accelerator": "GPU"
  },
  "nbformat": 4,
  "nbformat_minor": 0
}