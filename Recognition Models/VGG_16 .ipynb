{
  "cells": [
    {
      "cell_type": "code",
      "execution_count": null,
      "metadata": {
        "id": "lDhfous4FeBo"
      },
      "outputs": [],
      "source": [
        "from google.colab import drive\n",
        "drive.mount('/content/gdrive')\n",
        "path='/content/gdrive/\"My Drive\"/\"Colab Notebooks\"/\"data1\"'\n",
        "%ls{path}"
      ]
    },
    {
      "cell_type": "code",
      "source": [
        "import tensorflow\n",
        "from tensorflow.keras.models import Sequential\n",
        "from tensorflow.keras.layers import Dense, Conv2D, MaxPool2D , Flatten\n",
        "import matplotlib.pyplot as plt\n",
        "import pandas as pd\n",
        "import numpy as np\n",
        "from tensorflow.keras.utils import to_categorical\n",
        "from sklearn.metrics import confusion_matrix,ConfusionMatrixDisplay\n",
        "from tensorflow.keras.applications import VGG16"
      ],
      "metadata": {
        "id": "qj7kGHoODp_s"
      },
      "execution_count": null,
      "outputs": []
    },
    {
      "cell_type": "code",
      "execution_count": null,
      "metadata": {
        "id": "3XwpHQjKlZ5r"
      },
      "outputs": [],
      "source": [
        "import os\n",
        "import cv2\n",
        "x_train=[]\n",
        "y_train=[]\n",
        "x_test=[]\n",
        "y_test=[]\n",
        "imagepaths1 = []\n",
        "imagepaths2 = []\n",
        "for i in range(4):\n",
        "  image1path=f\"/content/gdrive/MyDrive/Colab Notebooks/data1/train/{i}/\"\n",
        "  image2path=f\"/content/gdrive/MyDrive/Colab Notebooks/data1/test/{i}/\"\n",
        "  file1=os.listdir(image1path)\n",
        "  for f in file1:\n",
        "    final1=image1path+f\n",
        "    img = cv2.imread(final1) # Reads image and returns np.array\n",
        "    #img = cv2.cvtColor(img, cv2.COLOR_BGR2GRAY) # Converts into the corret colorspace (GRAY)\n",
        "    img = cv2.resize(img, (200, 200))\n",
        "    x_train.append(img)\n",
        "    y_train.append(i)\n",
        "\n",
        "  file2=os.listdir(image2path)\n",
        "  for f in file2:\n",
        "    final2=image2path+f\n",
        "    img = cv2.imread(final2) # Reads image and returns np.array\n",
        "    #img = cv2.cvtColor(img,cv2.COLOR_BGR2GRAY) # Converts into the corret colorspace (GRAY)\n",
        "    img = cv2.resize(img, (200, 200))\n",
        "    x_test.append(img)\n",
        "    y_test.append(i)"
      ]
    },
    {
      "cell_type": "code",
      "source": [
        "tensorflow.test.gpu_device_name()"
      ],
      "metadata": {
        "id": "RJbCS1HymonI"
      },
      "execution_count": null,
      "outputs": []
    },
    {
      "cell_type": "markdown",
      "metadata": {
        "id": "J7VRKKHoep2I"
      },
      "source": [
        "**VGG MODEL**\n"
      ]
    },
    {
      "cell_type": "code",
      "execution_count": null,
      "metadata": {
        "colab": {
          "base_uri": "https://localhost:8080/"
        },
        "id": "Gdj9cHeMe240",
        "outputId": "df9a17fe-fba5-410d-8201-f9a35d479bb2"
      },
      "outputs": [
        {
          "output_type": "stream",
          "name": "stdout",
          "text": [
            "Downloading data from https://storage.googleapis.com/tensorflow/keras-applications/vgg16/vgg16_weights_tf_dim_ordering_tf_kernels_notop.h5\n",
            "58892288/58889256 [==============================] - 2s 0us/step\n",
            "58900480/58889256 [==============================] - 2s 0us/step\n",
            "<keras.engine.input_layer.InputLayer object at 0x7efe734c3750> False\n",
            "<keras.layers.convolutional.Conv2D object at 0x7efe734ddc10> False\n",
            "<keras.layers.convolutional.Conv2D object at 0x7efe734dd610> False\n",
            "<keras.layers.pooling.MaxPooling2D object at 0x7efe6a16b990> False\n",
            "<keras.layers.convolutional.Conv2D object at 0x7efe6a009410> False\n",
            "<keras.layers.convolutional.Conv2D object at 0x7efe69fa8510> False\n",
            "<keras.layers.pooling.MaxPooling2D object at 0x7efe69fb2690> False\n",
            "<keras.layers.convolutional.Conv2D object at 0x7efe69fba9d0> False\n",
            "<keras.layers.convolutional.Conv2D object at 0x7efe69fb3f50> False\n",
            "<keras.layers.convolutional.Conv2D object at 0x7efe69facbd0> False\n",
            "<keras.layers.pooling.MaxPooling2D object at 0x7efe69fc9dd0> False\n",
            "<keras.layers.convolutional.Conv2D object at 0x7efe69fc6fd0> False\n",
            "<keras.layers.convolutional.Conv2D object at 0x7efe69fac410> False\n",
            "<keras.layers.convolutional.Conv2D object at 0x7efe69fd42d0> False\n",
            "<keras.layers.pooling.MaxPooling2D object at 0x7efe69fd2cd0> False\n",
            "<keras.layers.convolutional.Conv2D object at 0x7efe69fd4e90> False\n",
            "<keras.layers.convolutional.Conv2D object at 0x7efe6934e410> False\n",
            "<keras.layers.convolutional.Conv2D object at 0x7efe69359650> False\n",
            "<keras.layers.pooling.MaxPooling2D object at 0x7efe6934e810> False\n"
          ]
        }
      ],
      "source": [
        "vgg_conv = VGG16(include_top=False,weights=\"imagenet\",input_shape=(200,200,3))\n",
        "for layer in vgg_conv.layers[:]:\n",
        "  layer.trainable=False\n",
        "for layer in vgg_conv.layers:\n",
        "  print(layer,layer.trainable)"
      ]
    },
    {
      "cell_type": "code",
      "execution_count": null,
      "metadata": {
        "colab": {
          "base_uri": "https://localhost:8080/"
        },
        "id": "3Qsu5HGfyceM",
        "outputId": "4f8d781a-62d7-4c2a-def5-39736631f7c3"
      },
      "outputs": [
        {
          "output_type": "stream",
          "name": "stdout",
          "text": [
            "Model: \"sequential\"\n",
            "_________________________________________________________________\n",
            " Layer (type)                Output Shape              Param #   \n",
            "=================================================================\n",
            " vgg16 (Functional)          (None, 6, 6, 512)         14714688  \n",
            "                                                                 \n",
            " flatten (Flatten)           (None, 18432)             0         \n",
            "                                                                 \n",
            " dense (Dense)               (None, 4)                 73732     \n",
            "                                                                 \n",
            "=================================================================\n",
            "Total params: 14,788,420\n",
            "Trainable params: 73,732\n",
            "Non-trainable params: 14,714,688\n",
            "_________________________________________________________________\n",
            "Epoch 1/20\n",
            "73/73 - 213s - loss: 0.6680 - accuracy: 0.9470 - val_loss: 0.4317 - val_accuracy: 0.9685 - 213s/epoch - 3s/step\n",
            "Epoch 2/20\n",
            "73/73 - 166s - loss: 0.0411 - accuracy: 0.9945 - val_loss: 0.3843 - val_accuracy: 0.9717 - 166s/epoch - 2s/step\n",
            "Epoch 3/20\n",
            "73/73 - 166s - loss: 0.0192 - accuracy: 0.9970 - val_loss: 0.4811 - val_accuracy: 0.9690 - 166s/epoch - 2s/step\n",
            "Epoch 4/20\n",
            "73/73 - 166s - loss: 0.0079 - accuracy: 0.9979 - val_loss: 0.3164 - val_accuracy: 0.9763 - 166s/epoch - 2s/step\n",
            "Epoch 5/20\n",
            "73/73 - 166s - loss: 0.0085 - accuracy: 0.9981 - val_loss: 0.4767 - val_accuracy: 0.9684 - 166s/epoch - 2s/step\n",
            "Epoch 6/20\n",
            "73/73 - 166s - loss: 0.0029 - accuracy: 0.9994 - val_loss: 0.4124 - val_accuracy: 0.9725 - 166s/epoch - 2s/step\n",
            "Epoch 7/20\n",
            "73/73 - 166s - loss: 0.0010 - accuracy: 0.9997 - val_loss: 0.4152 - val_accuracy: 0.9724 - 166s/epoch - 2s/step\n",
            "Epoch 8/20\n",
            "73/73 - 166s - loss: 1.6479e-04 - accuracy: 0.9999 - val_loss: 0.4035 - val_accuracy: 0.9732 - 166s/epoch - 2s/step\n",
            "Epoch 9/20\n",
            "73/73 - 166s - loss: 0.0043 - accuracy: 0.9993 - val_loss: 0.4851 - val_accuracy: 0.9693 - 166s/epoch - 2s/step\n",
            "Epoch 10/20\n",
            "73/73 - 166s - loss: 0.0057 - accuracy: 0.9993 - val_loss: 0.3758 - val_accuracy: 0.9757 - 166s/epoch - 2s/step\n",
            "Epoch 11/20\n",
            "73/73 - 166s - loss: 0.0179 - accuracy: 0.9966 - val_loss: 0.5808 - val_accuracy: 0.9747 - 166s/epoch - 2s/step\n",
            "Epoch 12/20\n",
            "73/73 - 166s - loss: 0.0424 - accuracy: 0.9950 - val_loss: 1.1577 - val_accuracy: 0.9600 - 166s/epoch - 2s/step\n",
            "Epoch 13/20\n",
            "73/73 - 166s - loss: 0.0406 - accuracy: 0.9959 - val_loss: 1.8398 - val_accuracy: 0.9417 - 166s/epoch - 2s/step\n",
            "Epoch 14/20\n",
            "73/73 - 166s - loss: 0.0335 - accuracy: 0.9964 - val_loss: 0.7996 - val_accuracy: 0.9725 - 166s/epoch - 2s/step\n",
            "Epoch 15/20\n",
            "73/73 - 166s - loss: 0.0106 - accuracy: 0.9984 - val_loss: 0.8156 - val_accuracy: 0.9749 - 166s/epoch - 2s/step\n",
            "Epoch 16/20\n",
            "73/73 - 166s - loss: 0.0045 - accuracy: 0.9991 - val_loss: 1.0448 - val_accuracy: 0.9685 - 166s/epoch - 2s/step\n",
            "Epoch 17/20\n",
            "73/73 - 166s - loss: 0.0023 - accuracy: 0.9997 - val_loss: 0.7763 - val_accuracy: 0.9768 - 166s/epoch - 2s/step\n",
            "Epoch 18/20\n",
            "73/73 - 166s - loss: 0.0054 - accuracy: 0.9994 - val_loss: 0.9901 - val_accuracy: 0.9701 - 166s/epoch - 2s/step\n",
            "Epoch 19/20\n",
            "73/73 - 166s - loss: 0.0074 - accuracy: 0.9996 - val_loss: 0.7252 - val_accuracy: 0.9787 - 166s/epoch - 2s/step\n",
            "Epoch 20/20\n",
            "73/73 - 166s - loss: 2.9263e-04 - accuracy: 0.9999 - val_loss: 0.7720 - val_accuracy: 0.9779 - 166s/epoch - 2s/step\n"
          ]
        }
      ],
      "source": [
        "model2=Sequential()\n",
        "model2.add(vgg_conv)\n",
        "model2.add(Flatten())\n",
        "model2.add(Dense(4,activation='softmax'))\n",
        "model2.summary()\n",
        "model2.compile(optimizer='adam', loss='categorical_crossentropy', metrics=['accuracy'])\n",
        "x_train = np.array(x_train, dtype=\"uint8\")\n",
        "y_train = np.array(y_train)\n",
        "x_test = np.array(x_test, dtype=\"uint8\")\n",
        "y_test = np.array(y_test)\n",
        "y_train = tensorflow.keras.utils.to_categorical(y_train, num_classes=4)\n",
        "y_test = tensorflow.keras.utils.to_categorical(y_test, num_classes=4)\n",
        "History2=model2.fit(x_train,y_train, epochs=20, batch_size=200, verbose=2,validation_data=(x_test,y_test)) "
      ]
    },
    {
      "cell_type": "code",
      "execution_count": null,
      "metadata": {
        "colab": {
          "base_uri": "https://localhost:8080/",
          "height": 573
        },
        "id": "a_rzEeU4ysz1",
        "outputId": "9c89f98e-a772-47eb-8f9a-2ce08c194bde"
      },
      "outputs": [
        {
          "output_type": "display_data",
          "data": {
            "text/plain": [
              "<Figure size 432x288 with 1 Axes>"
            ],
            "image/png": "[encoded data removed]"
          },
          "metadata": {
            "needs_background": "light"
          }
        },
        {
          "output_type": "display_data",
          "data": {
            "text/plain": [
              "<Figure size 432x288 with 1 Axes>"
            ],
            "image/png": "[encoded data removed]"
          },
          "metadata": {
            "needs_background": "light"
          }
        }
      ],
      "source": [
        "import matplotlib.pyplot as plt\n",
        "import pandas as pd\n",
        "plt.plot(History2.history['loss'])\n",
        "plt.plot(History2.history['val_loss'])\n",
        "plt.title('model loss')\n",
        "plt.ylabel('loss')\n",
        "plt.xlabel('epoch')\n",
        "plt.legend(['train', 'test'], loc='upper left')\n",
        "plt.ylim(None,7)\n",
        "plt.show()\n",
        "\n",
        "plt.plot(History2.history['accuracy'])\n",
        "plt.plot(History2.history['val_accuracy'])\n",
        "plt.title('model accuracy')\n",
        "plt.ylabel('accuracy')\n",
        "plt.xlabel('epoch')\n",
        "plt.legend(['train', 'test'], loc='upper left')\n",
        "plt.ylim(0.04,1.04)\n",
        "plt.show()\n",
        "\n",
        "predictions = model2.predict(x_test) # Make predictions towards the test set\n",
        "y_pred = np.argmax(predictions, axis=1) # Transform predictions into 1-D array with label number\n",
        "y_test = np.argmax(y_test, axis=1)"
      ]
    },
    {
      "cell_type": "code",
      "execution_count": null,
      "metadata": {
        "colab": {
          "base_uri": "https://localhost:8080/",
          "height": 295
        },
        "id": "YNXbpdR_zEFo",
        "outputId": "4659afdc-65b8-4643-d6f9-7080f7347cb1"
      },
      "outputs": [
        {
          "output_type": "display_data",
          "data": {
            "text/plain": [
              "<Figure size 432x288 with 2 Axes>"
            ],
            "image/png": "[encoded data removed]"
          },
          "metadata": {
            "needs_background": "light"
          }
        }
      ],
      "source": [
        "cm=confusion_matrix(y_test,y_pred)\n",
        "cmd_obj = ConfusionMatrixDisplay(cm, display_labels=['Victory', 'Thumbs', 'Fist','Palm'])\n",
        "cmd_obj.plot(values_format='d')\n",
        "cmd_obj.ax_.set(\n",
        "                title='Sklearn Confusion Matrix with labels!!', \n",
        "                xlabel='Predicted Values', \n",
        "                ylabel='Actual values')\n",
        "plt.show()"
      ]
    },
    {
      "cell_type": "code",
      "execution_count": null,
      "metadata": {
        "id": "AaSchsAHzJIE"
      },
      "outputs": [],
      "source": [
        "model2_json = model2.to_json()\n",
        "with open(\"VGGMODELNEW.json\", \"w\") as json_file:\n",
        "    json_file.write(model2_json)\n",
        "model2.save_weights('VGGMODELNEW.h5')"
      ]
    },
    {
      "cell_type": "code",
      "source": [
        "m1=[]\n",
        "tryyy = cv2.imread('/content/gdrive/MyDrive/Colab Notebooks/data1/test/0/0.jpg') # Reads image and returns np.array\n",
        "#img = cv2.cvtColor(img, cv2.COLOR_BGR2GRAY) # Converts into the corret colorspace (GRAY)\n",
        "tryyy = cv2.resize(img, (200, 200))\n",
        "m1.append(tryyy)\n",
        "m1=np.array(m1)\n",
        "predictions = model2.predict(m1) "
      ],
      "metadata": {
        "id": "vWEBlsNBk8f2"
      },
      "execution_count": null,
      "outputs": []
    },
    {
      "cell_type": "code",
      "source": [
        "import operator\n",
        "prediction = {'Victory': predictions[0][0], \n",
        "                  'Thumb': predictions[0][1], \n",
        "                  'Fist': predictions[0][2],\n",
        "                  'Palm': predictions[0][3],}\n",
        "    # Sorting based on top prediction\n",
        "prediction = sorted(prediction.items(), key=operator.itemgetter(1), reverse=True)"
      ],
      "metadata": {
        "id": "tPTmfFNRnDbO"
      },
      "execution_count": null,
      "outputs": []
    }
  ],
  "metadata": {
    "colab": {
      "collapsed_sections": [],
      "name": "gitVGG_16.ipynb",
      "provenance": []
    },
    "kernelspec": {
      "display_name": "Python 3",
      "name": "python3"
    },
    "language_info": {
      "name": "python"
    },
    "accelerator": "GPU"
  },
  "nbformat": 4,
  "nbformat_minor": 0
}